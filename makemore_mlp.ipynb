{
 "cells": [
  {
   "cell_type": "code",
   "execution_count": 1,
   "metadata": {},
   "outputs": [],
   "source": [
    "# imports\n",
    "import torch\n",
    "import torch.nn.functional as F\n",
    "import matplotlib.pyplot as plt\n",
    "%matplotlib inline"
   ]
  },
  {
   "cell_type": "code",
   "execution_count": 2,
   "metadata": {},
   "outputs": [
    {
     "data": {
      "text/plain": [
       "['emma', 'olivia', 'ava', 'isabella', 'sophia', 'charlotte', 'mia', 'amelia']"
      ]
     },
     "execution_count": 2,
     "metadata": {},
     "output_type": "execute_result"
    }
   ],
   "source": [
    "# loading data set\n",
    "words = open('names.txt', 'r').read().splitlines()\n",
    "words[:8]"
   ]
  },
  {
   "cell_type": "code",
   "execution_count": 3,
   "metadata": {},
   "outputs": [
    {
     "data": {
      "text/plain": [
       "32033"
      ]
     },
     "execution_count": 3,
     "metadata": {},
     "output_type": "execute_result"
    }
   ],
   "source": [
    "len(words)"
   ]
  },
  {
   "cell_type": "code",
   "execution_count": 9,
   "metadata": {},
   "outputs": [
    {
     "name": "stdout",
     "output_type": "stream",
     "text": [
      "{'a': 1, 'b': 2, 'c': 3, 'd': 4, 'e': 5, 'f': 6, 'g': 7, 'h': 8, 'i': 9, 'j': 10, 'k': 11, 'l': 12, 'm': 13, 'n': 14, 'o': 15, 'p': 16, 'q': 17, 'r': 18, 's': 19, 't': 20, 'u': 21, 'v': 22, 'w': 23, 'x': 24, 'y': 25, 'z': 26, '.': 0}\n"
     ]
    }
   ],
   "source": [
    "#build the vocabulary of characters and mappings to/from integers\n",
    "chars = sorted(list(set(''.join(words))))\n",
    "stoi = {s:i+1 for i,s in enumerate(chars)}\n",
    "stoi['.'] = 0\n",
    "itos = {i:s for s,i in stoi.items()}\n",
    "print(stoi)"
   ]
  },
  {
   "cell_type": "code",
   "execution_count": 13,
   "metadata": {},
   "outputs": [
    {
     "name": "stdout",
     "output_type": "stream",
     "text": [
      "emma\n",
      "... ---> e\n",
      "..e ---> m\n",
      ".em ---> m\n",
      "emm ---> a\n",
      "mma ---> .\n",
      "olivia\n",
      "... ---> o\n",
      "..o ---> l\n",
      ".ol ---> i\n",
      "oli ---> v\n",
      "liv ---> i\n",
      "ivi ---> a\n",
      "via ---> .\n",
      "ava\n",
      "... ---> a\n",
      "..a ---> v\n",
      ".av ---> a\n",
      "ava ---> .\n",
      "isabella\n",
      "... ---> i\n",
      "..i ---> s\n",
      ".is ---> a\n",
      "isa ---> b\n",
      "sab ---> e\n",
      "abe ---> l\n",
      "bel ---> l\n",
      "ell ---> a\n",
      "lla ---> .\n",
      "sophia\n",
      "... ---> s\n",
      "..s ---> o\n",
      ".so ---> p\n",
      "sop ---> h\n",
      "oph ---> i\n",
      "phi ---> a\n",
      "hia ---> .\n"
     ]
    }
   ],
   "source": [
    "# build the dataset\n",
    "\n",
    "block_size = 3 # context length: how many characters do we take to predict the next one?\n",
    "X, Y = [], [] # X is input to neural net. Y is label for each input\n",
    "for w in words[:5]:\n",
    "    \n",
    "    print(w)\n",
    "    context = [0] * block_size # create padded context of Zero tokens\n",
    "    for ch in w + '.': # concat . token to end of word and iterate through charcters\n",
    "        ix = stoi[ch] # assign index of ch to variable ix\n",
    "        X.append(context) # append context to input X\n",
    "        Y.append(ix) # append index of ch to labels Y\n",
    "        print(''.join(itos[i] for i in context), '--->', itos[ix])\n",
    "        context = context[1:] + [ix] # crop and append\n",
    "\n",
    "X = torch.tensor(X)\n",
    "Y = torch.tensor(Y)"
   ]
  },
  {
   "cell_type": "code",
   "execution_count": 15,
   "metadata": {},
   "outputs": [],
   "source": [
    "C = torch.randn((27, 2))"
   ]
  },
  {
   "cell_type": "code",
   "execution_count": 16,
   "metadata": {},
   "outputs": [
    {
     "data": {
      "text/plain": [
       "tensor([0.3761, 0.1463])"
      ]
     },
     "execution_count": 16,
     "metadata": {},
     "output_type": "execute_result"
    }
   ],
   "source": [
    "C[5]"
   ]
  },
  {
   "cell_type": "code",
   "execution_count": 19,
   "metadata": {},
   "outputs": [
    {
     "data": {
      "text/plain": [
       "tensor([0.3761, 0.1463])"
      ]
     },
     "execution_count": 19,
     "metadata": {},
     "output_type": "execute_result"
    }
   ],
   "source": [
    "F.one_hot(torch.tensor(5), num_classes=27).float() @ C"
   ]
  },
  {
   "attachments": {},
   "cell_type": "markdown",
   "metadata": {},
   "source": [
    "Indexing into the column is equivalent to taking the dot product of our lookup table C, with the one hot encoded values"
   ]
  },
  {
   "attachments": {},
   "cell_type": "markdown",
   "metadata": {},
   "source": [
    "PyTorch indexing is very powerful. We can index with a list, or even with a multi-dimensional tensor"
   ]
  },
  {
   "cell_type": "code",
   "execution_count": 22,
   "metadata": {},
   "outputs": [
    {
     "data": {
      "text/plain": [
       "tensor(1)"
      ]
     },
     "execution_count": 22,
     "metadata": {},
     "output_type": "execute_result"
    }
   ],
   "source": [
    "X[13, 2]"
   ]
  },
  {
   "cell_type": "code",
   "execution_count": 21,
   "metadata": {},
   "outputs": [
    {
     "data": {
      "text/plain": [
       "tensor([[[-1.1240,  0.4039],\n",
       "         [-1.1240,  0.4039],\n",
       "         [-1.1240,  0.4039]],\n",
       "\n",
       "        [[-1.1240,  0.4039],\n",
       "         [-1.1240,  0.4039],\n",
       "         [ 0.3761,  0.1463]],\n",
       "\n",
       "        [[-1.1240,  0.4039],\n",
       "         [ 0.3761,  0.1463],\n",
       "         [-0.0346,  0.2040]],\n",
       "\n",
       "        [[ 0.3761,  0.1463],\n",
       "         [-0.0346,  0.2040],\n",
       "         [-0.0346,  0.2040]],\n",
       "\n",
       "        [[-0.0346,  0.2040],\n",
       "         [-0.0346,  0.2040],\n",
       "         [-1.1314, -0.0225]],\n",
       "\n",
       "        [[-1.1240,  0.4039],\n",
       "         [-1.1240,  0.4039],\n",
       "         [-1.1240,  0.4039]],\n",
       "\n",
       "        [[-1.1240,  0.4039],\n",
       "         [-1.1240,  0.4039],\n",
       "         [-0.1324,  0.3031]],\n",
       "\n",
       "        [[-1.1240,  0.4039],\n",
       "         [-0.1324,  0.3031],\n",
       "         [ 0.5928,  0.6920]],\n",
       "\n",
       "        [[-0.1324,  0.3031],\n",
       "         [ 0.5928,  0.6920],\n",
       "         [ 0.1455,  0.3944]],\n",
       "\n",
       "        [[ 0.5928,  0.6920],\n",
       "         [ 0.1455,  0.3944],\n",
       "         [-0.0132, -0.2061]],\n",
       "\n",
       "        [[ 0.1455,  0.3944],\n",
       "         [-0.0132, -0.2061],\n",
       "         [ 0.1455,  0.3944]],\n",
       "\n",
       "        [[-0.0132, -0.2061],\n",
       "         [ 0.1455,  0.3944],\n",
       "         [-1.1314, -0.0225]],\n",
       "\n",
       "        [[-1.1240,  0.4039],\n",
       "         [-1.1240,  0.4039],\n",
       "         [-1.1240,  0.4039]],\n",
       "\n",
       "        [[-1.1240,  0.4039],\n",
       "         [-1.1240,  0.4039],\n",
       "         [-1.1314, -0.0225]],\n",
       "\n",
       "        [[-1.1240,  0.4039],\n",
       "         [-1.1314, -0.0225],\n",
       "         [-0.0132, -0.2061]],\n",
       "\n",
       "        [[-1.1314, -0.0225],\n",
       "         [-0.0132, -0.2061],\n",
       "         [-1.1314, -0.0225]],\n",
       "\n",
       "        [[-1.1240,  0.4039],\n",
       "         [-1.1240,  0.4039],\n",
       "         [-1.1240,  0.4039]],\n",
       "\n",
       "        [[-1.1240,  0.4039],\n",
       "         [-1.1240,  0.4039],\n",
       "         [ 0.1455,  0.3944]],\n",
       "\n",
       "        [[-1.1240,  0.4039],\n",
       "         [ 0.1455,  0.3944],\n",
       "         [ 0.0894, -0.5520]],\n",
       "\n",
       "        [[ 0.1455,  0.3944],\n",
       "         [ 0.0894, -0.5520],\n",
       "         [-1.1314, -0.0225]],\n",
       "\n",
       "        [[ 0.0894, -0.5520],\n",
       "         [-1.1314, -0.0225],\n",
       "         [-0.2843,  1.5311]],\n",
       "\n",
       "        [[-1.1314, -0.0225],\n",
       "         [-0.2843,  1.5311],\n",
       "         [ 0.3761,  0.1463]],\n",
       "\n",
       "        [[-0.2843,  1.5311],\n",
       "         [ 0.3761,  0.1463],\n",
       "         [ 0.5928,  0.6920]],\n",
       "\n",
       "        [[ 0.3761,  0.1463],\n",
       "         [ 0.5928,  0.6920],\n",
       "         [ 0.5928,  0.6920]],\n",
       "\n",
       "        [[ 0.5928,  0.6920],\n",
       "         [ 0.5928,  0.6920],\n",
       "         [-1.1314, -0.0225]],\n",
       "\n",
       "        [[-1.1240,  0.4039],\n",
       "         [-1.1240,  0.4039],\n",
       "         [-1.1240,  0.4039]],\n",
       "\n",
       "        [[-1.1240,  0.4039],\n",
       "         [-1.1240,  0.4039],\n",
       "         [ 0.0894, -0.5520]],\n",
       "\n",
       "        [[-1.1240,  0.4039],\n",
       "         [ 0.0894, -0.5520],\n",
       "         [-0.1324,  0.3031]],\n",
       "\n",
       "        [[ 0.0894, -0.5520],\n",
       "         [-0.1324,  0.3031],\n",
       "         [ 0.0679,  2.1355]],\n",
       "\n",
       "        [[-0.1324,  0.3031],\n",
       "         [ 0.0679,  2.1355],\n",
       "         [-0.9836, -0.3034]],\n",
       "\n",
       "        [[ 0.0679,  2.1355],\n",
       "         [-0.9836, -0.3034],\n",
       "         [ 0.1455,  0.3944]],\n",
       "\n",
       "        [[-0.9836, -0.3034],\n",
       "         [ 0.1455,  0.3944],\n",
       "         [-1.1314, -0.0225]]])"
      ]
     },
     "execution_count": 21,
     "metadata": {},
     "output_type": "execute_result"
    }
   ],
   "source": [
    "C[X]"
   ]
  },
  {
   "cell_type": "code",
   "execution_count": 23,
   "metadata": {},
   "outputs": [
    {
     "data": {
      "text/plain": [
       "tensor([-1.1314, -0.0225])"
      ]
     },
     "execution_count": 23,
     "metadata": {},
     "output_type": "execute_result"
    }
   ],
   "source": [
    "C[X][13, 2]"
   ]
  },
  {
   "cell_type": "code",
   "execution_count": 24,
   "metadata": {},
   "outputs": [
    {
     "data": {
      "text/plain": [
       "tensor([-1.1314, -0.0225])"
      ]
     },
     "execution_count": 24,
     "metadata": {},
     "output_type": "execute_result"
    }
   ],
   "source": [
    "C[1]"
   ]
  },
  {
   "attachments": {},
   "cell_type": "markdown",
   "metadata": {},
   "source": [
    "Notice that these are equivalent"
   ]
  },
  {
   "cell_type": "code",
   "execution_count": 25,
   "metadata": {},
   "outputs": [
    {
     "data": {
      "text/plain": [
       "torch.Size([32, 3, 2])"
      ]
     },
     "execution_count": 25,
     "metadata": {},
     "output_type": "execute_result"
    }
   ],
   "source": [
    "# This is our embedding\n",
    "emb = C[X]\n",
    "emb.shape"
   ]
  },
  {
   "cell_type": "code",
   "execution_count": 27,
   "metadata": {},
   "outputs": [],
   "source": [
    "# Creating our weights and biases\n",
    "# Weights are 6x100. 6 because our output from embedding is 3x2=6, so there are 6 inputs to this hidden layer. 100 neurons has been chosen randomly.\n",
    "# We also instantiate 100 biases to match our 100 weights\n",
    "W1 = torch.randn((6, 100))\n",
    "b1 = torch.randn(100)"
   ]
  },
  {
   "cell_type": "code",
   "execution_count": 29,
   "metadata": {},
   "outputs": [
    {
     "data": {
      "text/plain": [
       "tensor([[-1.1240,  0.4039, -1.1240,  0.4039, -1.1240,  0.4039],\n",
       "        [-1.1240,  0.4039, -1.1240,  0.4039,  0.3761,  0.1463],\n",
       "        [-1.1240,  0.4039,  0.3761,  0.1463, -0.0346,  0.2040],\n",
       "        [ 0.3761,  0.1463, -0.0346,  0.2040, -0.0346,  0.2040],\n",
       "        [-0.0346,  0.2040, -0.0346,  0.2040, -1.1314, -0.0225],\n",
       "        [-1.1240,  0.4039, -1.1240,  0.4039, -1.1240,  0.4039],\n",
       "        [-1.1240,  0.4039, -1.1240,  0.4039, -0.1324,  0.3031],\n",
       "        [-1.1240,  0.4039, -0.1324,  0.3031,  0.5928,  0.6920],\n",
       "        [-0.1324,  0.3031,  0.5928,  0.6920,  0.1455,  0.3944],\n",
       "        [ 0.5928,  0.6920,  0.1455,  0.3944, -0.0132, -0.2061],\n",
       "        [ 0.1455,  0.3944, -0.0132, -0.2061,  0.1455,  0.3944],\n",
       "        [-0.0132, -0.2061,  0.1455,  0.3944, -1.1314, -0.0225],\n",
       "        [-1.1240,  0.4039, -1.1240,  0.4039, -1.1240,  0.4039],\n",
       "        [-1.1240,  0.4039, -1.1240,  0.4039, -1.1314, -0.0225],\n",
       "        [-1.1240,  0.4039, -1.1314, -0.0225, -0.0132, -0.2061],\n",
       "        [-1.1314, -0.0225, -0.0132, -0.2061, -1.1314, -0.0225],\n",
       "        [-1.1240,  0.4039, -1.1240,  0.4039, -1.1240,  0.4039],\n",
       "        [-1.1240,  0.4039, -1.1240,  0.4039,  0.1455,  0.3944],\n",
       "        [-1.1240,  0.4039,  0.1455,  0.3944,  0.0894, -0.5520],\n",
       "        [ 0.1455,  0.3944,  0.0894, -0.5520, -1.1314, -0.0225],\n",
       "        [ 0.0894, -0.5520, -1.1314, -0.0225, -0.2843,  1.5311],\n",
       "        [-1.1314, -0.0225, -0.2843,  1.5311,  0.3761,  0.1463],\n",
       "        [-0.2843,  1.5311,  0.3761,  0.1463,  0.5928,  0.6920],\n",
       "        [ 0.3761,  0.1463,  0.5928,  0.6920,  0.5928,  0.6920],\n",
       "        [ 0.5928,  0.6920,  0.5928,  0.6920, -1.1314, -0.0225],\n",
       "        [-1.1240,  0.4039, -1.1240,  0.4039, -1.1240,  0.4039],\n",
       "        [-1.1240,  0.4039, -1.1240,  0.4039,  0.0894, -0.5520],\n",
       "        [-1.1240,  0.4039,  0.0894, -0.5520, -0.1324,  0.3031],\n",
       "        [ 0.0894, -0.5520, -0.1324,  0.3031,  0.0679,  2.1355],\n",
       "        [-0.1324,  0.3031,  0.0679,  2.1355, -0.9836, -0.3034],\n",
       "        [ 0.0679,  2.1355, -0.9836, -0.3034,  0.1455,  0.3944],\n",
       "        [-0.9836, -0.3034,  0.1455,  0.3944, -1.1314, -0.0225]])"
      ]
     },
     "execution_count": 29,
     "metadata": {},
     "output_type": "execute_result"
    }
   ],
   "source": [
    "# torch.cat concats tensors. takes a positional argument for which dimension to concat on. cat is an inefficient operation\n",
    "# this works, but if we change our block size this would break and we'd need to add more arguments to concat. lets try torch.unbind\n",
    "torch.cat([emb[:, 0, :], emb[:, 1, :], emb[:, 2, :]], 1)"
   ]
  },
  {
   "cell_type": "code",
   "execution_count": 31,
   "metadata": {},
   "outputs": [
    {
     "data": {
      "text/plain": [
       "tensor([[-1.1240,  0.4039, -1.1240,  0.4039, -1.1240,  0.4039],\n",
       "        [-1.1240,  0.4039, -1.1240,  0.4039,  0.3761,  0.1463],\n",
       "        [-1.1240,  0.4039,  0.3761,  0.1463, -0.0346,  0.2040],\n",
       "        [ 0.3761,  0.1463, -0.0346,  0.2040, -0.0346,  0.2040],\n",
       "        [-0.0346,  0.2040, -0.0346,  0.2040, -1.1314, -0.0225],\n",
       "        [-1.1240,  0.4039, -1.1240,  0.4039, -1.1240,  0.4039],\n",
       "        [-1.1240,  0.4039, -1.1240,  0.4039, -0.1324,  0.3031],\n",
       "        [-1.1240,  0.4039, -0.1324,  0.3031,  0.5928,  0.6920],\n",
       "        [-0.1324,  0.3031,  0.5928,  0.6920,  0.1455,  0.3944],\n",
       "        [ 0.5928,  0.6920,  0.1455,  0.3944, -0.0132, -0.2061],\n",
       "        [ 0.1455,  0.3944, -0.0132, -0.2061,  0.1455,  0.3944],\n",
       "        [-0.0132, -0.2061,  0.1455,  0.3944, -1.1314, -0.0225],\n",
       "        [-1.1240,  0.4039, -1.1240,  0.4039, -1.1240,  0.4039],\n",
       "        [-1.1240,  0.4039, -1.1240,  0.4039, -1.1314, -0.0225],\n",
       "        [-1.1240,  0.4039, -1.1314, -0.0225, -0.0132, -0.2061],\n",
       "        [-1.1314, -0.0225, -0.0132, -0.2061, -1.1314, -0.0225],\n",
       "        [-1.1240,  0.4039, -1.1240,  0.4039, -1.1240,  0.4039],\n",
       "        [-1.1240,  0.4039, -1.1240,  0.4039,  0.1455,  0.3944],\n",
       "        [-1.1240,  0.4039,  0.1455,  0.3944,  0.0894, -0.5520],\n",
       "        [ 0.1455,  0.3944,  0.0894, -0.5520, -1.1314, -0.0225],\n",
       "        [ 0.0894, -0.5520, -1.1314, -0.0225, -0.2843,  1.5311],\n",
       "        [-1.1314, -0.0225, -0.2843,  1.5311,  0.3761,  0.1463],\n",
       "        [-0.2843,  1.5311,  0.3761,  0.1463,  0.5928,  0.6920],\n",
       "        [ 0.3761,  0.1463,  0.5928,  0.6920,  0.5928,  0.6920],\n",
       "        [ 0.5928,  0.6920,  0.5928,  0.6920, -1.1314, -0.0225],\n",
       "        [-1.1240,  0.4039, -1.1240,  0.4039, -1.1240,  0.4039],\n",
       "        [-1.1240,  0.4039, -1.1240,  0.4039,  0.0894, -0.5520],\n",
       "        [-1.1240,  0.4039,  0.0894, -0.5520, -0.1324,  0.3031],\n",
       "        [ 0.0894, -0.5520, -0.1324,  0.3031,  0.0679,  2.1355],\n",
       "        [-0.1324,  0.3031,  0.0679,  2.1355, -0.9836, -0.3034],\n",
       "        [ 0.0679,  2.1355, -0.9836, -0.3034,  0.1455,  0.3944],\n",
       "        [-0.9836, -0.3034,  0.1455,  0.3944, -1.1314, -0.0225]])"
      ]
     },
     "execution_count": 31,
     "metadata": {},
     "output_type": "execute_result"
    }
   ],
   "source": [
    "# torch.unbind removes a tensor dimension. it returns a tuple of all slices along this dimension, without it. this method is insensitive to changes in block size\n",
    "torch.cat(torch.unbind(emb, 1), 1)"
   ]
  },
  {
   "cell_type": "code",
   "execution_count": 40,
   "metadata": {},
   "outputs": [
    {
     "name": "stderr",
     "output_type": "stream",
     "text": [
      "C:\\Users\\Kevin\\AppData\\Local\\Temp\\ipykernel_14592\\2466038042.py:4: UserWarning: TypedStorage is deprecated. It will be removed in the future and UntypedStorage will be the only storage class. This should only matter to you if you are using storages directly.  To access UntypedStorage directly, use tensor.untyped_storage() instead of tensor.storage()\n",
      "  display(a.storage())\n",
      "c:\\Users\\Kevin\\anaconda3\\lib\\site-packages\\IPython\\lib\\pretty.py:700: UserWarning: TypedStorage is deprecated. It will be removed in the future and UntypedStorage will be the only storage class. This should only matter to you if you are using storages directly.  To access UntypedStorage directly, use tensor.untyped_storage() instead of tensor.storage()\n",
      "  output = repr(obj)\n",
      "c:\\Users\\Kevin\\anaconda3\\lib\\site-packages\\torch\\storage.py:645: UserWarning: TypedStorage is deprecated. It will be removed in the future and UntypedStorage will be the only storage class. This should only matter to you if you are using storages directly.  To access UntypedStorage directly, use tensor.untyped_storage() instead of tensor.storage()\n",
      "  return str(self)\n",
      "c:\\Users\\Kevin\\anaconda3\\lib\\site-packages\\torch\\storage.py:636: UserWarning: TypedStorage is deprecated. It will be removed in the future and UntypedStorage will be the only storage class. This should only matter to you if you are using storages directly.  To access UntypedStorage directly, use tensor.untyped_storage() instead of tensor.storage()\n",
      "  f'device={self.device}) of size {len(self)}]')\n",
      "c:\\Users\\Kevin\\anaconda3\\lib\\site-packages\\torch\\storage.py:637: UserWarning: TypedStorage is deprecated. It will be removed in the future and UntypedStorage will be the only storage class. This should only matter to you if you are using storages directly.  To access UntypedStorage directly, use tensor.untyped_storage() instead of tensor.storage()\n",
      "  if self.device.type == 'meta':\n",
      "c:\\Users\\Kevin\\anaconda3\\lib\\site-packages\\torch\\storage.py:640: UserWarning: TypedStorage is deprecated. It will be removed in the future and UntypedStorage will be the only storage class. This should only matter to you if you are using storages directly.  To access UntypedStorage directly, use tensor.untyped_storage() instead of tensor.storage()\n",
      "  data_str = ' ' + '\\n '.join(str(self[i]) for i in range(self.size()))\n"
     ]
    },
    {
     "data": {
      "text/plain": [
       " 0\n",
       " 1\n",
       " 2\n",
       " 3\n",
       " 4\n",
       " 5\n",
       " 6\n",
       " 7\n",
       " 8\n",
       " 9\n",
       " 10\n",
       " 11\n",
       " 12\n",
       " 13\n",
       " 14\n",
       " 15\n",
       " 16\n",
       " 17\n",
       "[torch.storage.TypedStorage(dtype=torch.int64, device=cpu) of size 18]"
      ]
     },
     "metadata": {},
     "output_type": "display_data"
    },
    {
     "data": {
      "text/plain": [
       "(tensor([[ 0,  1,  2,  3,  4,  5,  6,  7,  8],\n",
       "         [ 9, 10, 11, 12, 13, 14, 15, 16, 17]]),\n",
       " tensor([[ 0,  1,  2,  3,  4,  5,  6,  7,  8],\n",
       "         [ 9, 10, 11, 12, 13, 14, 15, 16, 17]]),\n",
       " tensor([[[ 0,  1],\n",
       "          [ 2,  3],\n",
       "          [ 4,  5]],\n",
       " \n",
       "         [[ 6,  7],\n",
       "          [ 8,  9],\n",
       "          [10, 11]],\n",
       " \n",
       "         [[12, 13],\n",
       "          [14, 15],\n",
       "          [16, 17]]]))"
      ]
     },
     "execution_count": 40,
     "metadata": {},
     "output_type": "execute_result"
    }
   ],
   "source": [
    "# Tensor.view() is an extremely efficient way to maniuplate tensor dimensions without actually modifying memory. \n",
    "# It utilizes underlying attributes of the tensor object in order to change the way a tensor is represented.\n",
    "a = torch.arange(18)\n",
    "display(a.storage()) # tensors are stored in memory as a list of their values\n",
    "a.view(2,9), a.view(2,9), a.view(3,3,2)"
   ]
  },
  {
   "cell_type": "code",
   "execution_count": 44,
   "metadata": {},
   "outputs": [],
   "source": [
    "# tensor.view() just so happens to manipulate the shape of the tensor in the way we desire\n",
    "# Using -1 to avoid hardcoding. We could equivalently use emb.shape[0]. PyTorch is smart enough to derive the necessary value to make the operation work using the second value of 6\n",
    "# We use tanh here to transfrom all values in the resulting tesnor to be between -1 and 1\n",
    "# **It's good practice to always double check that the broadcasting operation taking place (+) works as we expect it to!\n",
    "h = torch.tanh(emb.view(-1, 6) @ W1 + b1)"
   ]
  },
  {
   "cell_type": "code",
   "execution_count": 45,
   "metadata": {},
   "outputs": [
    {
     "data": {
      "text/plain": [
       "torch.Size([32, 100])"
      ]
     },
     "execution_count": 45,
     "metadata": {},
     "output_type": "execute_result"
    }
   ],
   "source": [
    "h.shape"
   ]
  },
  {
   "cell_type": "code",
   "execution_count": 46,
   "metadata": {},
   "outputs": [],
   "source": [
    "W2 = torch.randn((100, 27))\n",
    "b2 = torch.randn(27)\n",
    "logits = h @ W2 + b2"
   ]
  },
  {
   "cell_type": "code",
   "execution_count": 48,
   "metadata": {},
   "outputs": [
    {
     "data": {
      "text/plain": [
       "torch.Size([32, 27])"
      ]
     },
     "execution_count": 48,
     "metadata": {},
     "output_type": "execute_result"
    }
   ],
   "source": [
    "logits.shape"
   ]
  },
  {
   "cell_type": "code",
   "execution_count": 49,
   "metadata": {},
   "outputs": [],
   "source": [
    "counts = logits.exp()\n",
    "prob = counts / counts.sum(1, keepdims=True)"
   ]
  },
  {
   "cell_type": "code",
   "execution_count": 52,
   "metadata": {},
   "outputs": [
    {
     "data": {
      "text/plain": [
       "torch.Size([32, 27])"
      ]
     },
     "execution_count": 52,
     "metadata": {},
     "output_type": "execute_result"
    }
   ],
   "source": [
    "prob.shape"
   ]
  },
  {
   "cell_type": "code",
   "execution_count": 59,
   "metadata": {},
   "outputs": [
    {
     "data": {
      "text/plain": [
       "tensor(15.7092)"
      ]
     },
     "execution_count": 59,
     "metadata": {},
     "output_type": "execute_result"
    }
   ],
   "source": [
    "# negative log loss likelihood\n",
    "loss = -prob[torch.arange(len(Y)), Y].log().mean()\n",
    "loss"
   ]
  },
  {
   "attachments": {},
   "cell_type": "markdown",
   "metadata": {},
   "source": [
    "#### Here is the above code rewritten and condensed:"
   ]
  },
  {
   "cell_type": "code",
   "execution_count": 88,
   "metadata": {},
   "outputs": [],
   "source": [
    "# build the dataset\n",
    "\n",
    "block_size = 3 # context length: how many characters do we take to predict the next one?\n",
    "X, Y = [], [] # X is input to neural net. Y is label for each input\n",
    "for w in words:\n",
    "    \n",
    "    context = [0] * block_size # create padded context of Zero tokens\n",
    "    for ch in w + '.': # concat . token to end of word and iterate through charcters\n",
    "        ix = stoi[ch] # assign index of ch to variable ix\n",
    "        X.append(context) # append context to input X\n",
    "        Y.append(ix) # append index of ch to labels Y\n",
    "        context = context[1:] + [ix] # crop and append\n",
    "\n",
    "X = torch.tensor(X)\n",
    "Y = torch.tensor(Y)"
   ]
  },
  {
   "attachments": {},
   "cell_type": "markdown",
   "metadata": {},
   "source": [
    "#### Build the dataset with train/val/test splits"
   ]
  },
  {
   "cell_type": "code",
   "execution_count": 350,
   "metadata": {},
   "outputs": [
    {
     "name": "stdout",
     "output_type": "stream",
     "text": [
      "torch.Size([182441, 3]) torch.Size([182441])\n",
      "torch.Size([22902, 3]) torch.Size([22902])\n",
      "torch.Size([22803, 3]) torch.Size([22803])\n"
     ]
    }
   ],
   "source": [
    "def build_dataset(words):\n",
    "    block_size = 3 # context length: how many characters do we take to predict the next one?\n",
    "    X, Y = [], [] # X is input to neural net. Y is label for each input\n",
    "    for w in words:\n",
    "        \n",
    "        context = [0] * block_size # create padded context of Zero tokens\n",
    "        for ch in w + '.': # concat . token to end of word and iterate through charcters\n",
    "            ix = stoi[ch] # assign index of ch to variable ix\n",
    "            X.append(context) # append context to input X\n",
    "            Y.append(ix) # append index of ch to labels Y\n",
    "            context = context[1:] + [ix] # crop and append\n",
    "\n",
    "    X = torch.tensor(X)\n",
    "    Y = torch.tensor(Y)\n",
    "    print(X.shape, Y.shape)\n",
    "    return X, Y\n",
    "\n",
    "import random\n",
    "random.seed(42)\n",
    "random.shuffle(words)\n",
    "n1 = int(0.8*len(words))\n",
    "n2 = int(0.9*len(words))\n",
    "\n",
    "Xtr, Ytr = build_dataset(words[:n1])\n",
    "Xdev, Ydev = build_dataset(words[n1:n2])\n",
    "Xte, Yte = build_dataset(words[n2:])"
   ]
  },
  {
   "cell_type": "code",
   "execution_count": 430,
   "metadata": {},
   "outputs": [],
   "source": [
    "g = torch.Generator().manual_seed(2147483647)\n",
    "C = torch.randn((27, 10), generator=g)\n",
    "W1 = torch.randn((30, 200), generator=g)\n",
    "b1 = torch.randn(200, generator=g)\n",
    "W2 = torch.randn((200, 27), generator=g)\n",
    "b2 = torch.randn(27, generator=g)\n",
    "parameters = [C, W1, b1, W2, b2] # to count total parameters"
   ]
  },
  {
   "cell_type": "code",
   "execution_count": 431,
   "metadata": {},
   "outputs": [
    {
     "data": {
      "text/plain": [
       "11897"
      ]
     },
     "execution_count": 431,
     "metadata": {},
     "output_type": "execute_result"
    }
   ],
   "source": [
    "sum(p.nelement() for p in parameters)"
   ]
  },
  {
   "cell_type": "code",
   "execution_count": 432,
   "metadata": {},
   "outputs": [],
   "source": [
    "# # F.cross_entropy()\n",
    "# emb = C[X] # (32, 3, 2)\n",
    "# h = torch.tanh(emb.view(-1, 6) @ W1 + b1) # (32, 100)\n",
    "# logits = h @ W2 + b2 # (32, 27)\n",
    "# # counts = logits.exp()\n",
    "# # prob = counts / counts.sum(1, keepdims=True)\n",
    "# # loss = -prob[torch.arange(32), Y].log().mean()\n",
    "\n",
    "# # ^^^ THIS IS THE SAME AS THE ABOVE ^^^\n",
    "# # F.cross_entropy is much more computationally efficient as it does compound operations rather than multiple individual operations.\n",
    "# # In addition, it makes back-propagation much more efficient for the same reasons\n",
    "# loss = F.cross_entropy(logits, Y)\n",
    "# loss"
   ]
  },
  {
   "cell_type": "code",
   "execution_count": 433,
   "metadata": {},
   "outputs": [],
   "source": [
    "for p in parameters:\n",
    "    p.requires_grad = True"
   ]
  },
  {
   "cell_type": "code",
   "execution_count": 434,
   "metadata": {},
   "outputs": [],
   "source": [
    "lre = torch.linspace(-3, 0, 1000)\n",
    "lrs = 10 ** lre"
   ]
  },
  {
   "cell_type": "code",
   "execution_count": 435,
   "metadata": {},
   "outputs": [],
   "source": [
    "lri, lossi, stepi = [], [], []"
   ]
  },
  {
   "cell_type": "code",
   "execution_count": 436,
   "metadata": {},
   "outputs": [],
   "source": [
    "for i in range(200000):\n",
    "    # construct minibatch\n",
    "    ix = torch.randint(0, Xtr.shape[0], (32,))\n",
    "\n",
    "    # forward pass\n",
    "    emb = C[Xtr[ix]] # (32, 3, 2)\n",
    "    h = torch.tanh(emb.view(-1, 30) @ W1 + b1) # (32, 100)\n",
    "    logits = h @ W2 + b2 # (32, 27)\n",
    "    loss = F.cross_entropy(logits, Ytr[ix])\n",
    "    # print(loss.item())\n",
    "\n",
    "    # backward pass\n",
    "    for p in parameters:\n",
    "        p.grad = None\n",
    "    loss.backward()\n",
    "\n",
    "    # update\n",
    "    lr = 0.1 if i < 100000 else 0.01\n",
    "    for p in parameters:\n",
    "        p.data += -lr * p.grad\n",
    "\n",
    "    # track stats\n",
    "    stepi.append(i)\n",
    "    lossi.append(loss.log10().item())\n",
    "\n",
    "# print(loss.item())"
   ]
  },
  {
   "cell_type": "code",
   "execution_count": 437,
   "metadata": {},
   "outputs": [
    {
     "data": {
      "image/png": "[encoded data removed]",
      "text/plain": [
       "<Figure size 640x480 with 1 Axes>"
      ]
     },
     "metadata": {},
     "output_type": "display_data"
    }
   ],
   "source": [
    "plt.plot(stepi, lossi);"
   ]
  },
  {
   "cell_type": "code",
   "execution_count": 438,
   "metadata": {},
   "outputs": [
    {
     "data": {
      "text/plain": [
       "2.1122851371765137"
      ]
     },
     "execution_count": 438,
     "metadata": {},
     "output_type": "execute_result"
    }
   ],
   "source": [
    "    emb = C[Xtr] # (32, 3, 2)\n",
    "    h = torch.tanh(emb.view(-1, 30) @ W1 + b1) # (32, 100)\n",
    "    logits = h @ W2 + b2 # (32, 27)\n",
    "    loss = F.cross_entropy(logits, Ytr)\n",
    "    loss.item()"
   ]
  },
  {
   "cell_type": "code",
   "execution_count": 439,
   "metadata": {},
   "outputs": [
    {
     "data": {
      "text/plain": [
       "2.160743236541748"
      ]
     },
     "execution_count": 439,
     "metadata": {},
     "output_type": "execute_result"
    }
   ],
   "source": [
    "    emb = C[Xdev] # (32, 3, 2)\n",
    "    h = torch.tanh(emb.view(-1, 30) @ W1 + b1) # (32, 100)\n",
    "    logits = h @ W2 + b2 # (32, 27)\n",
    "    loss = F.cross_entropy(logits, Ydev)\n",
    "    loss.item()"
   ]
  },
  {
   "cell_type": "code",
   "execution_count": 383,
   "metadata": {},
   "outputs": [
    {
     "data": {
      "image/png": "[encoded data removed]",
      "text/plain": [
       "<Figure size 800x800 with 1 Axes>"
      ]
     },
     "metadata": {},
     "output_type": "display_data"
    }
   ],
   "source": [
    "plt.figure(figsize=(8,8))\n",
    "plt.scatter(C[:,0].data, C[:,1].data, s=200)\n",
    "for i in range(C.shape[0]):\n",
    "    plt.text(C[i,0].item(), C[i,1].item(), itos[i], ha=\"center\", va=\"center\", color=\"white\")\n",
    "plt.grid('minor');"
   ]
  },
  {
   "cell_type": "markdown",
   "metadata": {},
   "source": [
    "#### Let's sample from the model!"
   ]
  },
  {
   "cell_type": "code",
   "execution_count": 440,
   "metadata": {},
   "outputs": [
    {
     "name": "stdout",
     "output_type": "stream",
     "text": [
      "moha.\n",
      "mayah.\n",
      "seel.\n",
      "nihah.\n",
      "larethrus.\n",
      "jernee.\n",
      "adejadielin.\n",
      "shy.\n",
      "jen.\n",
      "eden.\n",
      "sananaraelyn.\n",
      "malaia.\n",
      "nyson.\n",
      "mogiagriel.\n",
      "kindreelynn.\n",
      "nohana.\n",
      "uma.\n",
      "ged.\n",
      "ryyah.\n",
      "faeh.\n"
     ]
    }
   ],
   "source": [
    "g = torch.Generator().manual_seed(2147483647 + 10)\n",
    "\n",
    "for _ in range(20):\n",
    "    out = []\n",
    "    context = [0] * block_size # initialize with all '...'\n",
    "    while True:\n",
    "        emb = C[torch.tensor([context])] # (1, block_size, d)\n",
    "        h = torch.tanh(emb.view(1, -1) @ W1 + b1)\n",
    "        logits = h @ W2 + b2\n",
    "        probs = F.softmax(logits, dim=1)\n",
    "        ix = torch.multinomial(probs, num_samples=1, generator=g).item()\n",
    "        context = context[1:] + [ix]\n",
    "        out.append(ix)\n",
    "        if ix == 0:\n",
    "            break\n",
    "    print(''.join(itos[i] for i in out))"
   ]
  },
  {
   "attachments": {},
   "cell_type": "markdown",
   "metadata": {},
   "source": [
    "#### Next step is to modify hyperparameters in order to improve on the log loss!"
   ]
  }
 ],
 "metadata": {
  "kernelspec": {
   "display_name": "base",
   "language": "python",
   "name": "python3"
  },
  "language_info": {
   "codemirror_mode": {
    "name": "ipython",
    "version": 3
   },
   "file_extension": ".py",
   "mimetype": "text/x-python",
   "name": "python",
   "nbconvert_exporter": "python",
   "pygments_lexer": "ipython3",
   "version": "3.9.13"
  },
  "orig_nbformat": 4
 },
 "nbformat": 4,
 "nbformat_minor": 2
}
